{
 "cells": [
  {
   "cell_type": "markdown",
   "metadata": {},
   "source": [
    "ResNeXt"
   ]
  },
  {
   "cell_type": "markdown",
   "metadata": {},
   "source": [
    "Setup environment"
   ]
  },
  {
   "cell_type": "code",
   "execution_count": 2,
   "metadata": {},
   "outputs": [
    {
     "name": "stdout",
     "output_type": "stream",
     "text": [
      "cuda: True\n"
     ]
    }
   ],
   "source": [
    "import os\n",
    "import csv\n",
    "import torch\n",
    "import torch.nn as nn\n",
    "import torch.nn.functional as F\n",
    "import torch.optim as optim\n",
    "from torch.utils.data import DataLoader, TensorDataset, random_split, Dataset\n",
    "import torch.optim as optim\n",
    "from tqdm import tqdm\n",
    "import torchvision\n",
    "from torchvision import datasets, transforms\n",
    "import torchvision.models as models\n",
    "import matplotlib.pyplot as plt\n",
    "from pathlib import Path\n",
    "from PIL import Image\n",
    "from torch.optim.lr_scheduler import ReduceLROnPlateau\n",
    "%matplotlib inline\n",
    "\n",
    "device = torch.device(\"cuda\" if torch.cuda.is_available() else \"cpu\")\n",
    "print(\"cuda:\", torch.cuda.is_available())\n",
    "\n",
    "# Directory paths in the local machine\n",
    "test_data_path = \"./Dataset/test\"\n",
    "combined_data_path = \"./Dataset/train\"\n",
    "\n",
    "# for reproducibility and quick adjustments\n",
    "torch.manual_seed(0)\n",
    "BATCH_SIZE = 32\n",
    "num_epochs = 30\n"
   ]
  },
  {
   "cell_type": "markdown",
   "metadata": {},
   "source": [
    "Prep the training and validation datasets"
   ]
  },
  {
   "cell_type": "code",
   "execution_count": 3,
   "metadata": {},
   "outputs": [
    {
     "name": "stdout",
     "output_type": "stream",
     "text": [
      "Training image count: 972\n",
      "Validation image count: 107\n"
     ]
    }
   ],
   "source": [
    "\n",
    "# Define the Transformations, with data augmentation\n",
    "transform_train = transforms.Compose([\n",
    "    transforms.RandomHorizontalFlip(),\n",
    "    transforms.RandomRotation(15),\n",
    "    transforms.ColorJitter(brightness=0.1, contrast=0.1, saturation=0.1, hue=0.1),\n",
    "    transforms.RandomResizedCrop(size=224, scale=(0.8, 1.0)),\n",
    "    transforms.ToTensor(),\n",
    "    transforms.Normalize(mean=[0.485, 0.456, 0.406], std=[0.229, 0.224, 0.225])\n",
    "    # transforms.Resize((224, 224), interpolation=transforms.InterpolationMode.BICUBIC),\n",
    "    # transforms.ToTensor(),\n",
    "    # transforms.Normalize(mean=[0.485, 0.456, 0.406], std=[0.229, 0.224, 0.225])\n",
    "])\n",
    "\n",
    "# for validation without data augmentation\n",
    "transform_val = transforms.Compose([\n",
    "    transforms.Resize((224, 224)),\n",
    "    transforms.ToTensor(),\n",
    "    transforms.Normalize(mean=[0.485, 0.456, 0.406], std=[0.229, 0.224, 0.225])\n",
    "])\n",
    "\n",
    "# Create a dataset with training transform\n",
    "full_dataset = datasets.ImageFolder(root=combined_data_path, transform=transform_train)\n",
    "\n",
    "# Split the dataset into train and validation sets\n",
    "num_train = len(full_dataset)\n",
    "num_val = int(0.2 * num_train)\n",
    "num_train -= num_val\n",
    "train_subset, val_subset = random_split(full_dataset, [num_train, num_val])\n",
    "\n",
    "# Set the transform for validation subset\n",
    "val_subset.dataset.transform = transform_val\n",
    "\n",
    "# Create DataLoaders for training and validation sets\n",
    "train_loader = DataLoader(dataset=train_subset, batch_size=BATCH_SIZE, shuffle=True)\n",
    "val_loader = DataLoader(dataset=val_subset, batch_size=BATCH_SIZE, shuffle=False)\n",
    "\n",
    "# Display training/validation set count\n",
    "print(f\"Training image count: {len(train_subset)}\")\n",
    "print(f\"Validation image count: {len(val_subset)}\")\n"
   ]
  },
  {
   "cell_type": "markdown",
   "metadata": {},
   "source": [
    "Prep the testing dataset"
   ]
  },
  {
   "cell_type": "code",
   "execution_count": 4,
   "metadata": {},
   "outputs": [],
   "source": [
    "# Custom dataset loader to handle unlabeled data.\n",
    "class UnlabeledDataset(Dataset):\n",
    "    def __init__(self, root_dir, transform=None):\n",
    "        self.root_dir = root_dir\n",
    "        self.transform = transform\n",
    "        self.image_list = os.listdir(root_dir)\n",
    "\n",
    "    def __len__(self):\n",
    "        return len(self.image_list)\n",
    "\n",
    "    def __getitem__(self, idx):\n",
    "        img_name = os.path.join(self.root_dir, self.image_list[idx])\n",
    "        image = Image.open(img_name).convert('RGB')\n",
    "        if self.transform:\n",
    "            image = self.transform(image)\n",
    "        return image, self.image_list[idx]\n",
    "\n",
    "test_dataset = UnlabeledDataset(root_dir=test_data_path, transform=transform_val)\n",
    "test_loader = DataLoader(test_dataset, batch_size=BATCH_SIZE, shuffle=False)\n"
   ]
  },
  {
   "cell_type": "markdown",
   "metadata": {},
   "source": [
    "Setup Model with ResNeXt"
   ]
  },
  {
   "cell_type": "code",
   "execution_count": 5,
   "metadata": {},
   "outputs": [
    {
     "name": "stderr",
     "output_type": "stream",
     "text": [
      "C:\\Users\\Michael\\AppData\\Roaming\\Python\\Python311\\site-packages\\torchvision\\models\\_utils.py:208: UserWarning: The parameter 'pretrained' is deprecated since 0.13 and may be removed in the future, please use 'weights' instead.\n",
      "  warnings.warn(\n",
      "C:\\Users\\Michael\\AppData\\Roaming\\Python\\Python311\\site-packages\\torchvision\\models\\_utils.py:223: UserWarning: Arguments other than a weight enum or `None` for 'weights' are deprecated since 0.13 and may be removed in the future. The current behavior is equivalent to passing `weights=ResNeXt101_32X8D_Weights.IMAGENET1K_V1`. You can also use `weights=ResNeXt101_32X8D_Weights.DEFAULT` to get the most up-to-date weights.\n",
      "  warnings.warn(msg)\n"
     ]
    }
   ],
   "source": [
    "# resnext = models.resnext50_32x4d(pretrained=True)\n",
    "resnext = models.resnext101_32x8d(pretrained=True)\n",
    "\n",
    "class MyModel(nn.Module):\n",
    "    def __init__(self, resnext):\n",
    "        super(MyModel, self).__init__()\n",
    "        self.resnext = resnext\n",
    "        num_features = resnext.fc.in_features  # Get the number of inputs for the last layer\n",
    "        self.resnext.fc = nn.Identity() # Repace the last fc layer with a place holder\n",
    "\n",
    "        # Freeze all pretrained layers\n",
    "        for param in self.resnext.parameters():\n",
    "            param.requires_grad = False\n",
    "\n",
    "        self.fc = nn.Sequential(\n",
    "            nn.Dropout(0.5),  # 50% of the neurons are dropped out\n",
    "            nn.Linear(num_features, 100)\n",
    "        )\n",
    "\n",
    "    def forward(self, x):\n",
    "        x = self.resnext(x)\n",
    "        x = self.fc(x)\n",
    "        return x\n",
    "\n",
    "model = MyModel(resnext)\n",
    "model = model.to(device)\n"
   ]
  },
  {
   "cell_type": "markdown",
   "metadata": {},
   "source": [
    "Define Loss Function and Optimizer and scheduler"
   ]
  },
  {
   "cell_type": "code",
   "execution_count": 6,
   "metadata": {},
   "outputs": [],
   "source": [
    "# Define the loss function\n",
    "criterion = nn.CrossEntropyLoss()\n",
    "\n",
    "# Define the optimizer\n",
    "optimizer = optim.Adam(model.parameters(), lr=0.001, weight_decay=1e-2) # weight_decay is L2 regularization\n",
    "# optimizer = optim.SGD(model.parameters(), lr=0.001, momentum=0.9, weight_decay=1e-4)\n",
    "\n",
    "scheduler = ReduceLROnPlateau(optimizer, 'min', patience=5)"
   ]
  },
  {
   "cell_type": "markdown",
   "metadata": {},
   "source": [
    "Training and Validation Loop"
   ]
  },
  {
   "cell_type": "code",
   "execution_count": 7,
   "metadata": {},
   "outputs": [
    {
     "name": "stdout",
     "output_type": "stream",
     "text": [
      "Epoch [1/30], Loss: 4.4028, Validation Accuracy: 17.76%\n",
      "Epoch [2/30], Loss: 2.6336, Validation Accuracy: 37.38%\n",
      "Epoch [3/30], Loss: 1.9428, Validation Accuracy: 41.12%\n",
      "Epoch [4/30], Loss: 1.5878, Validation Accuracy: 46.73%\n",
      "Epoch [5/30], Loss: 1.3331, Validation Accuracy: 49.53%\n",
      "Epoch [6/30], Loss: 1.2138, Validation Accuracy: 47.66%\n",
      "Epoch [7/30], Loss: 1.0918, Validation Accuracy: 51.40%\n",
      "Epoch [8/30], Loss: 1.0308, Validation Accuracy: 52.34%\n",
      "Epoch [9/30], Loss: 0.9270, Validation Accuracy: 51.40%\n",
      "Epoch [10/30], Loss: 0.8729, Validation Accuracy: 55.14%\n",
      "Epoch [11/30], Loss: 0.8534, Validation Accuracy: 50.47%\n",
      "Epoch [12/30], Loss: 0.7678, Validation Accuracy: 51.40%\n",
      "Epoch [13/30], Loss: 0.7726, Validation Accuracy: 52.34%\n",
      "Epoch [14/30], Loss: 0.7362, Validation Accuracy: 56.07%\n",
      "Epoch [15/30], Loss: 0.7156, Validation Accuracy: 58.88%\n",
      "Epoch [16/30], Loss: 0.7208, Validation Accuracy: 51.40%\n",
      "Epoch [17/30], Loss: 0.6707, Validation Accuracy: 57.01%\n",
      "Epoch [18/30], Loss: 0.6565, Validation Accuracy: 47.66%\n",
      "Epoch [19/30], Loss: 0.6379, Validation Accuracy: 57.01%\n",
      "Epoch [20/30], Loss: 0.6302, Validation Accuracy: 59.81%\n",
      "Epoch [21/30], Loss: 0.6010, Validation Accuracy: 61.68%\n",
      "Epoch [22/30], Loss: 0.6050, Validation Accuracy: 58.88%\n",
      "Epoch [23/30], Loss: 0.5989, Validation Accuracy: 55.14%\n",
      "Epoch [24/30], Loss: 0.5905, Validation Accuracy: 55.14%\n",
      "Epoch [25/30], Loss: 0.6002, Validation Accuracy: 57.94%\n",
      "Epoch [26/30], Loss: 0.5801, Validation Accuracy: 55.14%\n",
      "Epoch [27/30], Loss: 0.5725, Validation Accuracy: 61.68%\n",
      "Epoch [28/30], Loss: 0.5637, Validation Accuracy: 54.21%\n",
      "Epoch [29/30], Loss: 0.5809, Validation Accuracy: 57.01%\n",
      "Epoch [30/30], Loss: 0.5572, Validation Accuracy: 51.40%\n"
     ]
    }
   ],
   "source": [
    "# Keep track of training loss and validation accuracy\n",
    "train_losses = []\n",
    "val_accuracies = []\n",
    "\n",
    "def update_augmentation(epoch):\n",
    "    # Adjust the augmentation strategy here as needed\n",
    "    if epoch % 10 == 0:\n",
    "        new_transform_train = transforms.Compose([\n",
    "            transforms.RandomResizedCrop(size=224, scale=(0.5, 1.0)),\n",
    "            transforms.RandomHorizontalFlip(),\n",
    "            # Additional augmentations can be added here\n",
    "            transforms.ToTensor(),\n",
    "            transforms.Normalize(mean=[0.485, 0.456, 0.406], std=[0.229, 0.224, 0.225]),\n",
    "        ])\n",
    "        train_loader.dataset.dataset.transform = new_transform_train\n",
    "\n",
    "for epoch in range(num_epochs):\n",
    "    # Update the augmentation strategy based on epoch number\n",
    "    update_augmentation(epoch)\n",
    "\n",
    "    # Set the model to training mode\n",
    "    model.train()\n",
    "    \n",
    "    # Track loss of each epoch\n",
    "    total_loss = 0\n",
    "\n",
    "    # Loop over each batch from the training set\n",
    "    for images, labels in train_loader:\n",
    "        images, labels = images.to(device), labels.to(device)\n",
    "        optimizer.zero_grad()\n",
    "        outputs = model(images)\n",
    "        loss = criterion(outputs, labels)\n",
    "        loss.backward()\n",
    "        optimizer.step()\n",
    "        total_loss += loss.item()\n",
    "\n",
    "    # Calculate average loss over an epoch\n",
    "    avg_loss = total_loss / len(train_loader)\n",
    "    train_losses.append(avg_loss)\n",
    "\n",
    "    # Set Model to Evaluation Mode\n",
    "    model.eval()\n",
    "    correct, total = 0, 0\n",
    "    with torch.no_grad():\n",
    "        for images, labels in val_loader:\n",
    "            images, labels = images.to(device), labels.to(device)\n",
    "            outputs = model(images)\n",
    "            _, predicted = torch.max(outputs, 1)\n",
    "            total += labels.size(0)\n",
    "            correct += (predicted == labels).sum().item()\n",
    "    \n",
    "    epoch_accuracy = 100 * correct / total\n",
    "    val_accuracies.append(epoch_accuracy)\n",
    "    print(f'Epoch [{epoch+1}/{num_epochs}], Loss: {avg_loss:.4f}, Validation Accuracy: {epoch_accuracy:.2f}%')\n",
    "\n",
    "    scheduler.step(total_loss / len(train_loader))\n",
    "    "
   ]
  },
  {
   "cell_type": "markdown",
   "metadata": {},
   "source": [
    "Plotting Training Loss and Training Accuracy"
   ]
  },
  {
   "cell_type": "code",
   "execution_count": 8,
   "metadata": {},
   "outputs": [
    {
     "data": {
      "image/png": "[encoded data removed]",
      "text/plain": [
       "<Figure size 1200x600 with 2 Axes>"
      ]
     },
     "metadata": {},
     "output_type": "display_data"
    }
   ],
   "source": [
    "plt.figure(figsize=(12, 6))\n",
    "\n",
    "# Plot training loss\n",
    "plt.subplot(1, 2, 1)\n",
    "plt.plot(train_losses, label='Training Loss')\n",
    "plt.xlabel('Epoch')\n",
    "plt.ylabel('Loss')\n",
    "plt.title('Training Loss')\n",
    "plt.legend()\n",
    "\n",
    "# Plot validation accuracy\n",
    "plt.subplot(1, 2, 2)\n",
    "plt.plot(val_accuracies, label='Validation Accuracy')\n",
    "plt.xlabel('Epoch')\n",
    "plt.ylabel('Accuracy')\n",
    "plt.title('Validation Accuracy')\n",
    "plt.legend()\n",
    "\n",
    "plt.show()\n"
   ]
  },
  {
   "cell_type": "markdown",
   "metadata": {},
   "source": [
    "Eva;uate and create the predictions"
   ]
  },
  {
   "cell_type": "code",
   "execution_count": 9,
   "metadata": {},
   "outputs": [
    {
     "name": "stderr",
     "output_type": "stream",
     "text": [
      "Predicting labels: 100%|██████████| 33/33 [00:12<00:00,  2.72it/s]\n"
     ]
    }
   ],
   "source": [
    "# Model's evaluation mode\n",
    "model.eval()\n",
    "\n",
    "test_predictions = []\n",
    "\n",
    "# Assuming the model is already in evaluation mode and device is defined\n",
    "with torch.no_grad():\n",
    "    for images, paths in tqdm(test_loader, desc='Predicting labels'):\n",
    "        images = images.to(device)\n",
    "\n",
    "        # Get predictions\n",
    "        outputs = model(images)\n",
    "        _, predicted = torch.max(outputs, 1)\n",
    "        predicted_labels = [full_dataset.classes[p] for p in predicted.cpu().numpy()]\n",
    "\n",
    "        # Go through the batch and add to our prediction list, including image paths\n",
    "        for path, label in zip(paths, predicted_labels):\n",
    "            test_predictions.append((Path(path).name, label))  # Appending a tuple of filename and label\n",
    "\n",
    "with open('./CSV Files/submission.csv', 'w', newline='') as csvfile:\n",
    "    writer = csv.writer(csvfile)\n",
    "    writer.writerow(['ID', 'Label'])\n",
    "    writer.writerows(test_predictions)  # Writing all predictions at once"
   ]
  }
 ],
 "metadata": {
  "kernelspec": {
   "display_name": "Python 3",
   "language": "python",
   "name": "python3"
  },
  "language_info": {
   "codemirror_mode": {
    "name": "ipython",
    "version": 3
   },
   "file_extension": ".py",
   "mimetype": "text/x-python",
   "name": "python",
   "nbconvert_exporter": "python",
   "pygments_lexer": "ipython3",
   "version": "3.11.2"
  }
 },
 "nbformat": 4,
 "nbformat_minor": 2
}
