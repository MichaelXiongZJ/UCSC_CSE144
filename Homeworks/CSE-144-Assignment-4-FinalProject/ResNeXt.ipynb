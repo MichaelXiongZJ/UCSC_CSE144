{
 "cells": [
  {
   "cell_type": "markdown",
   "metadata": {},
   "source": [
    "ResNeXt"
   ]
  },
  {
   "cell_type": "markdown",
   "metadata": {},
   "source": [
    "Setup environment"
   ]
  },
  {
   "cell_type": "code",
   "execution_count": 145,
   "metadata": {},
   "outputs": [
    {
     "name": "stdout",
     "output_type": "stream",
     "text": [
      "cuda: True\n"
     ]
    }
   ],
   "source": [
    "import os\n",
    "import csv\n",
    "import torch\n",
    "import torch.nn as nn\n",
    "import torch.nn.functional as F\n",
    "import torch.optim as optim\n",
    "from torch.utils.data import DataLoader, TensorDataset, random_split, Dataset\n",
    "import torch.optim as optim\n",
    "from tqdm import tqdm\n",
    "import torchvision\n",
    "from torchvision import datasets, transforms\n",
    "import torchvision.models as models\n",
    "import matplotlib.pyplot as plt\n",
    "import numpy as np\n",
    "from pathlib import Path\n",
    "import pandas as pd\n",
    "from PIL import Image\n",
    "%matplotlib inline\n",
    "\n",
    "device = torch.device(\"cuda\" if torch.cuda.is_available() else \"cpu\")\n",
    "print(\"cuda:\", torch.cuda.is_available())\n",
    "\n",
    "# Directory paths in the local machine\n",
    "test_data_path = \"./Dataset/test\"\n",
    "combined_data_path = \"./Dataset/train\"\n",
    "\n",
    "# for reproducibility and quick adjustments\n",
    "torch.manual_seed(0)\n",
    "batch_size = 32\n"
   ]
  },
  {
   "cell_type": "markdown",
   "metadata": {},
   "source": [
    "Prep the training and validation datasets"
   ]
  },
  {
   "cell_type": "code",
   "execution_count": 146,
   "metadata": {},
   "outputs": [],
   "source": [
    "\n",
    "# Define the Transformations\n",
    "# Include resizing the images, converting them to tensor, and normalizing.\n",
    "transform = transforms.Compose([\n",
    "    transforms.Resize((224, 224)),  # Resize all images to 224x224 as required\n",
    "    transforms.ToTensor(),  # Convert image to tensor\n",
    "    # Normalize using mean and std of the ImageNet dataset - recommended by ChatGPT\n",
    "    transforms.Normalize(mean=[0.485, 0.456, 0.406], std=[0.229, 0.224, 0.225])\n",
    "])\n",
    "\n",
    "# Load the Datasets\n",
    "# Use torchvision's ImageFolder to load the dataset.\n",
    "# ImageFolder expects data to be structured in a specific way.\n",
    "combined_dataset = datasets.ImageFolder(root=combined_data_path, transform=transform)\n",
    "train_size = int(0.8 * len(combined_dataset))   # size of the training set: 80%\n",
    "val_size = len(combined_dataset) - train_size   # size of the validation set\n",
    "train_dataset, val_dataset = random_split(combined_dataset, [train_size, val_size])\n",
    "\n",
    "# Create Data Loaders\n",
    "train_loader = torch.utils.data.DataLoader(train_dataset, batch_size=batch_size, shuffle=True)\n",
    "val_loader = torch.utils.data.DataLoader(val_dataset, batch_size=batch_size, shuffle=False)\n"
   ]
  },
  {
   "cell_type": "markdown",
   "metadata": {},
   "source": [
    "Prep the testing dataset"
   ]
  },
  {
   "cell_type": "code",
   "execution_count": 147,
   "metadata": {},
   "outputs": [],
   "source": [
    "\n",
    "# Custom dataset loader to handle unlabeled data.\n",
    "class UnlabeledDataset(Dataset):\n",
    "    def __init__(self, root_dir, transform=None):\n",
    "        self.root_dir = root_dir\n",
    "        self.transform = transform\n",
    "        self.image_list = os.listdir(root_dir)\n",
    "\n",
    "    def __len__(self):\n",
    "        return len(self.image_list)\n",
    "\n",
    "    def __getitem__(self, idx):\n",
    "        img_name = os.path.join(self.root_dir, self.image_list[idx])\n",
    "        image = Image.open(img_name).convert('RGB')\n",
    "        if self.transform:\n",
    "            image = self.transform(image)\n",
    "        return image, self.image_list[idx]\n",
    "\n",
    "test_dataset = UnlabeledDataset(root_dir=test_data_path, transform=transform)\n",
    "test_loader = DataLoader(test_dataset, batch_size=batch_size, shuffle=False)\n"
   ]
  },
  {
   "cell_type": "markdown",
   "metadata": {},
   "source": [
    "Setup Model with ResNeXt"
   ]
  },
  {
   "cell_type": "code",
   "execution_count": 148,
   "metadata": {},
   "outputs": [],
   "source": [
    "# Load a pre-trained ResNeXt model (or resnext101_32x8d)\n",
    "# model = models.resnext50_32x4d(pretrained=True)\n",
    "model = models.resnext101_32x8d(pretrained=True)\n",
    "\n",
    "# Replace the last fully connected layer\n",
    "num_features = model.fc.in_features  # Get the number of inputs for the last layer\n",
    "model.fc = nn.Sequential(\n",
    "    nn.Dropout(0.5),  # 50% of the neurons are dropped out\n",
    "    nn.Linear(num_features, 100)\n",
    ")\n",
    "\n",
    "# Freeze all layers\n",
    "for param in model.parameters():\n",
    "    param.requires_grad = False\n",
    "\n",
    "# Unfreeze the last layer\n",
    "for param in model.fc.parameters():\n",
    "    param.requires_grad = True\n",
    "\n",
    "# # Unfreeze additional layers\n",
    "# for name, child in model.named_children():\n",
    "#     if name in ['layer4']:  # Unfreeze 'layer4'\n",
    "#         for param in child.parameters():\n",
    "#             param.requires_grad = True\n",
    "\n",
    "model = model.to(device)\n"
   ]
  },
  {
   "cell_type": "markdown",
   "metadata": {},
   "source": [
    "Define Loss Function and Optimizer"
   ]
  },
  {
   "cell_type": "code",
   "execution_count": 149,
   "metadata": {},
   "outputs": [],
   "source": [
    "# Define the loss function\n",
    "criterion = nn.CrossEntropyLoss()\n",
    "\n",
    "# Define the optimizer\n",
    "optimizer = optim.Adam(model.parameters(), lr=0.001, weight_decay=1e-5) # weight_decay is L2 regularization\n",
    "# optimizer = optim.SGD(model.parameters(), lr=0.001, momentum=0.9, weight_decay=1e-4)\n"
   ]
  },
  {
   "cell_type": "markdown",
   "metadata": {},
   "source": [
    "Training and Validation Loop"
   ]
  },
  {
   "cell_type": "code",
   "execution_count": 150,
   "metadata": {},
   "outputs": [
    {
     "name": "stdout",
     "output_type": "stream",
     "text": [
      "Epoch [1/20], Loss: 4.4446, Validation Accuracy: 23.61%\n",
      "Epoch [2/20], Loss: 2.6896, Validation Accuracy: 40.74%\n",
      "Epoch [3/20], Loss: 1.8386, Validation Accuracy: 46.76%\n",
      "Epoch [4/20], Loss: 1.4280, Validation Accuracy: 48.15%\n",
      "Epoch [5/20], Loss: 1.1835, Validation Accuracy: 54.17%\n",
      "Epoch [6/20], Loss: 0.9656, Validation Accuracy: 52.78%\n",
      "Epoch [7/20], Loss: 0.8210, Validation Accuracy: 56.02%\n",
      "Epoch [8/20], Loss: 0.7094, Validation Accuracy: 55.56%\n",
      "Epoch [9/20], Loss: 0.6492, Validation Accuracy: 56.48%\n",
      "Epoch [10/20], Loss: 0.5600, Validation Accuracy: 55.56%\n",
      "Epoch [11/20], Loss: 0.5121, Validation Accuracy: 58.80%\n",
      "Epoch [12/20], Loss: 0.4531, Validation Accuracy: 58.33%\n",
      "Epoch [13/20], Loss: 0.4226, Validation Accuracy: 59.72%\n",
      "Epoch [14/20], Loss: 0.4030, Validation Accuracy: 61.11%\n",
      "Epoch [15/20], Loss: 0.3544, Validation Accuracy: 58.33%\n",
      "Epoch [16/20], Loss: 0.3283, Validation Accuracy: 58.80%\n",
      "Epoch [17/20], Loss: 0.2892, Validation Accuracy: 56.94%\n",
      "Epoch [18/20], Loss: 0.2781, Validation Accuracy: 56.94%\n",
      "Epoch [19/20], Loss: 0.2570, Validation Accuracy: 59.26%\n",
      "Epoch [20/20], Loss: 0.2722, Validation Accuracy: 57.87%\n"
     ]
    }
   ],
   "source": [
    "# Keep track of training loss and validation accuracy\n",
    "train_losses = []\n",
    "val_accuracies = []\n",
    "\n",
    "num_epochs = 20\n",
    "# num_epochs = 1  # debug\n",
    "\n",
    "for epoch in range(num_epochs):\n",
    "\n",
    "    # Set the model to training mode\n",
    "    # This enables layers like dropout and batch normalization to behave correctly.\n",
    "    model.train()\n",
    "    \n",
    "    # Track loss of each epoch\n",
    "    total_loss = 0\n",
    "\n",
    "    # Loop over each batch from the training set\n",
    "    for batch_idx, (images, labels) in enumerate(train_loader):\n",
    "        # Move images and labels to the correct device\n",
    "        images, labels = images.to(device), labels.to(device)\n",
    "\n",
    "        # Forward pass: compute the model output\n",
    "        outputs = model(images)\n",
    "\n",
    "        # Calculate loss\n",
    "        loss = criterion(outputs, labels)\n",
    "\n",
    "        # Backward pass: compute gradient of the loss with respect to model parameters\n",
    "        optimizer.zero_grad()  # Clear previous gradients\n",
    "        loss.backward()        # Compute gradients\n",
    "\n",
    "        # Update the model parameters\n",
    "        optimizer.step()\n",
    "        \n",
    "        total_loss += loss.item()\n",
    "    # Calculate average loss over an epoch\n",
    "    avg_loss = total_loss / len(train_loader)\n",
    "    train_losses.append(avg_loss)\n",
    "\n",
    "    # Set Model to Evaluation Mode\n",
    "    # This disables layers like dropout.\n",
    "    model.eval()\n",
    "    correct, total = 0, 0\n",
    "    with torch.no_grad():\n",
    "        for images, labels in val_loader:\n",
    "            images, labels = images.to(device), labels.to(device)\n",
    "            outputs = model(images)\n",
    "            _, predicted = torch.max(outputs, 1)\n",
    "            total += labels.size(0)\n",
    "            correct += (predicted == labels).sum().item()\n",
    "\n",
    "    epoch_accuracy = 100 * correct / total\n",
    "    val_accuracies.append(epoch_accuracy)\n",
    "    print(f'Epoch [{epoch+1}/{num_epochs}], Loss: {avg_loss:.4f}, Validation Accuracy: {epoch_accuracy:.2f}%')\n",
    "\n"
   ]
  },
  {
   "cell_type": "markdown",
   "metadata": {},
   "source": [
    "Plotting Training Loss and Training Accuracy"
   ]
  },
  {
   "cell_type": "code",
   "execution_count": 151,
   "metadata": {},
   "outputs": [
    {
     "data": {
      "image/png": "[encoded data removed]",
      "text/plain": [
       "<Figure size 1200x600 with 2 Axes>"
      ]
     },
     "metadata": {},
     "output_type": "display_data"
    }
   ],
   "source": [
    "plt.figure(figsize=(12, 6))\n",
    "\n",
    "# Plot training loss\n",
    "plt.subplot(1, 2, 1)\n",
    "plt.plot(train_losses, label='Training Loss')\n",
    "plt.xlabel('Epoch')\n",
    "plt.ylabel('Loss')\n",
    "plt.title('Training Loss Over Epochs')\n",
    "plt.legend()\n",
    "\n",
    "# Plot validation accuracy\n",
    "plt.subplot(1, 2, 2)\n",
    "plt.plot(val_accuracies, label='Validation Accuracy')\n",
    "plt.xlabel('Epoch')\n",
    "plt.ylabel('Accuracy')\n",
    "plt.title('Validation Accuracy Over Epochs')\n",
    "plt.legend()\n",
    "\n",
    "plt.show()\n"
   ]
  },
  {
   "cell_type": "markdown",
   "metadata": {},
   "source": [
    "Run on the test dataset to create the predictions"
   ]
  },
  {
   "cell_type": "code",
   "execution_count": 152,
   "metadata": {},
   "outputs": [],
   "source": [
    "model.eval()\n",
    "\n",
    "predictions = []\n",
    "file_names = []\n",
    "\n",
    "with torch.no_grad():\n",
    "    for images, names in test_loader:\n",
    "        images = images.to(device)\n",
    "        outputs = model(images)\n",
    "        _, predicted = torch.max(outputs, 1)\n",
    "        predictions.extend(predicted.cpu().numpy())\n",
    "        file_names.extend(names)"
   ]
  },
  {
   "cell_type": "markdown",
   "metadata": {},
   "source": [
    "Save predictions onto a CSV File"
   ]
  },
  {
   "cell_type": "code",
   "execution_count": 153,
   "metadata": {},
   "outputs": [
    {
     "name": "stdout",
     "output_type": "stream",
     "text": [
      "CSV file saved: ./CSV Files/submission.csv\n"
     ]
    }
   ],
   "source": [
    "# Create a DataFrame\n",
    "submission_df = pd.DataFrame({\n",
    "    'ID': file_names,\n",
    "    'Label': predictions\n",
    "})\n",
    "\n",
    "# Save the DataFrame as a CSV file\n",
    "submission_csv_path = './CSV Files/submission.csv'\n",
    "submission_df.to_csv(submission_csv_path, index=False)\n",
    "\n",
    "print(\"CSV file saved:\", submission_csv_path)\n"
   ]
  }
 ],
 "metadata": {
  "kernelspec": {
   "display_name": "Python 3",
   "language": "python",
   "name": "python3"
  },
  "language_info": {
   "codemirror_mode": {
    "name": "ipython",
    "version": 3
   },
   "file_extension": ".py",
   "mimetype": "text/x-python",
   "name": "python",
   "nbconvert_exporter": "python",
   "pygments_lexer": "ipython3",
   "version": "3.11.2"
  }
 },
 "nbformat": 4,
 "nbformat_minor": 2
}
