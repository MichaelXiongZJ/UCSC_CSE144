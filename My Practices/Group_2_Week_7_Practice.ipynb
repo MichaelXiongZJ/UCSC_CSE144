{
  "cells": [
    {
      "cell_type": "markdown",
      "metadata": {
        "id": "9PUbMKGYtiLI"
      },
      "source": [
        "# **Practice Building a CNN with PyTorch**\n",
        "Practice by building a CNN for a binary classification task of telling 1s vs 0s."
      ]
    },
    {
      "cell_type": "code",
      "execution_count": 87,
      "metadata": {
        "id": "USZ1pEfKtg3g"
      },
      "outputs": [],
      "source": [
        "import torch\n",
        "import torchvision\n",
        "import torch.nn as nn\n",
        "import torch.optim as optim\n",
        "import matplotlib.pyplot as plt\n",
        "import numpy as np\n",
        "import torchvision.transforms as transforms\n",
        "import torchvision.datasets as datasets\n",
        "import torch.nn.functional as F\n"
      ]
    },
    {
      "cell_type": "markdown",
      "metadata": {
        "id": "Jsf7jgNPAEHs"
      },
      "source": [
        "**Get the MNIST image set for training**"
      ]
    },
    {
      "cell_type": "code",
      "execution_count": 88,
      "metadata": {
        "id": "HEFhxkgyAEHs"
      },
      "outputs": [],
      "source": [
        "transform = transforms.Compose([transforms.ToTensor(), transforms.Normalize((0.5,), (0.5,))])\n",
        "\n",
        "train_dataset = datasets.MNIST(root='./data', train=True, download=True, transform=transform)\n",
        "test_dataset = datasets.MNIST(root='./data', train=False, download=True, transform=transform)\n",
        "\n",
        "train_loader = torch.utils.data.DataLoader(train_dataset, batch_size=64, shuffle=True)\n",
        "test_loadewr = torch.utils.data.DataLoader(test_dataset, batch_size=64, shuffle=True)"
      ]
    },
    {
      "cell_type": "markdown",
      "source": [
        "Check if the images are good and labeled."
      ],
      "metadata": {
        "id": "W7K7aGnTDjdv"
      }
    },
    {
      "cell_type": "code",
      "source": [
        "def visualize_batch(images, labels, n=5):\n",
        "    plt.figure(figsize=(10, 2))\n",
        "    for i in range(n):\n",
        "        ax = plt.subplot(1, n, i + 1)\n",
        "        plt.imshow(images[i].numpy().squeeze(), cmap='gray')\n",
        "        ax.set_title(f'Label: {labels[i].item()}')\n",
        "        plt.axis('off')\n",
        "    plt.show()\n",
        "\n",
        "print(\"training set:\")\n",
        "dataiter = iter(train_loader)\n",
        "images, labels = next(dataiter)\n",
        "visualize_batch(images, labels, n=5)\n",
        "print(\"testing set:\")\n",
        "dataiter = iter(train_loader)\n",
        "images, labels = next(dataiter)\n",
        "visualize_batch(images, labels, n=5)"
      ],
      "metadata": {
        "colab": {
          "base_uri": "https://localhost:8080/",
          "height": 402
        },
        "id": "GpXHT4w5ClA-",
        "outputId": "9c6fbae5-e932-4027-a556-4a2b3ecb14bf"
      },
      "execution_count": 89,
      "outputs": [
        {
          "output_type": "stream",
          "name": "stdout",
          "text": [
            "training set:\n"
          ]
        },
        {
          "output_type": "display_data",
          "data": {
            "text/plain": [
              "<Figure size 1000x200 with 5 Axes>"
            ],
            "image/png": "[encoded data removed]"
          },
          "metadata": {}
        },
        {
          "output_type": "stream",
          "name": "stdout",
          "text": [
            "testing set:\n"
          ]
        },
        {
          "output_type": "display_data",
          "data": {
            "text/plain": [
              "<Figure size 1000x200 with 5 Axes>"
            ],
            "image/png": "[encoded data removed]"
          },
          "metadata": {}
        }
      ]
    },
    {
      "cell_type": "markdown",
      "source": [
        "Since we want to keep it simple with just 0s and 1s, time to filter."
      ],
      "metadata": {
        "id": "lFSdWPYiDuF-"
      }
    },
    {
      "cell_type": "code",
      "source": [
        "from torch.utils.data import TensorDataset, DataLoader\n",
        "\n",
        "# Your filter function\n",
        "def filter_01(labels, dataset):\n",
        "    indices = (labels == 0) | (labels == 1)\n",
        "    labels = labels[indices]\n",
        "    dataset = dataset[indices]\n",
        "    return labels, dataset\n",
        "\n",
        "train_labels, train_data = filter_01(train_dataset.targets, train_dataset.data)\n",
        "test_labels, test_data = filter_01(test_dataset.targets, test_dataset.data)\n",
        "\n",
        "# Create TensorDataset objects\n",
        "train_dataset_filtered = TensorDataset(train_data.unsqueeze(1).float(), train_labels)\n",
        "test_dataset_filtered = TensorDataset(test_data.unsqueeze(1).float(), test_labels)\n",
        "\n",
        "# Create DataLoader objects\n",
        "train_loader = DataLoader(train_dataset_filtered, batch_size=64, shuffle=True)\n",
        "test_loader = DataLoader(test_dataset_filtered, batch_size=64, shuffle=False)\n"
      ],
      "metadata": {
        "id": "vClmwaWlC4_R"
      },
      "execution_count": 90,
      "outputs": []
    },
    {
      "cell_type": "code",
      "source": [
        "print(\"training set:\")\n",
        "visualize_batch(train_data, train_labels, n=5)\n",
        "print(\"testing set:\")\n",
        "visualize_batch(test_data, test_labels, n=5)"
      ],
      "metadata": {
        "colab": {
          "base_uri": "https://localhost:8080/",
          "height": 402
        },
        "id": "Cz-BDu-SC4zO",
        "outputId": "cce08bcb-1ec3-4f70-dbb5-d9a20cbede4f"
      },
      "execution_count": 91,
      "outputs": [
        {
          "output_type": "stream",
          "name": "stdout",
          "text": [
            "training set:\n"
          ]
        },
        {
          "output_type": "display_data",
          "data": {
            "text/plain": [
              "<Figure size 1000x200 with 5 Axes>"
            ],
            "image/png": "[encoded data removed]"
          },
          "metadata": {}
        },
        {
          "output_type": "stream",
          "name": "stdout",
          "text": [
            "testing set:\n"
          ]
        },
        {
          "output_type": "display_data",
          "data": {
            "text/plain": [
              "<Figure size 1000x200 with 5 Axes>"
            ],
            "image/png": "[encoded data removed]"
          },
          "metadata": {}
        }
      ]
    },
    {
      "cell_type": "markdown",
      "metadata": {
        "id": "xl9rPLfVxFGV"
      },
      "source": [
        "# Initilize the layers"
      ]
    },
    {
      "cell_type": "code",
      "execution_count": 92,
      "metadata": {
        "id": "XQK0wgUoxCax"
      },
      "outputs": [],
      "source": [
        "class BinaryCNN(nn.Module):\n",
        "    def __init__(self):\n",
        "        super(BinaryCNN, self).__init__()\n",
        "        self.relu = nn.ReLU()  # ReLU as a module\n",
        "        # Create a convolution layer with 1 input channels, 16 filters, 3x3 kernel size\n",
        "        self.conv1 = nn.Conv2d(1, 16, 3)\n",
        "        # Create a max pooling layer with 3x3 kernel\n",
        "        self.pool1 = nn.MaxPool2d(3, 3)\n",
        "        # Create a convolution layer with 32 input channels, 64 filters, 3x3 kernel size\n",
        "        self.conv2 = nn.Conv2d(16, 64, 3)\n",
        "        # Create a max pooling layer with 3x3 kernel\n",
        "        self.pool2 = nn.MaxPool2d(2, 2)\n",
        "\n",
        "        # Now do the Fully connected layers\n",
        "        self.fc1 = nn.Linear(64 * 3 * 3, 128)\n",
        "        self.fc2 = nn.Linear(128, 64)\n",
        "        self.fc3 = nn.Linear(64, 2)\n",
        "\n",
        "        # Add a 20% drop out\n",
        "        self.dropout = nn.Dropout(0.2)\n",
        "\n",
        "    # Complete the forwarding function\n",
        "    def forward(self, x):\n",
        "        # Convolution and Activation (Layer 1)\n",
        "        x = self.relu(self.conv1(x))\n",
        "        x = self.pool1(x)\n",
        "        # Convolution and Activation (Layer 2)\n",
        "        x = self.relu(self.conv2(x))\n",
        "        x = self.pool2(x)\n",
        "        # Flattening\n",
        "        x = x.view(-1, 64 * 3 * 3)\n",
        "        # Fully Connected Layers with Dropout\n",
        "        x = self.relu(self.fc1(x))\n",
        "        x = self.dropout(x)\n",
        "        x = self.relu(self.fc2(x))\n",
        "        x = self.dropout(x)\n",
        "        # Final Output Layer\n",
        "        x = self.fc3(x)\n",
        "        return x\n"
      ]
    },
    {
      "cell_type": "markdown",
      "source": [
        "# Loss Function and Optimizer:"
      ],
      "metadata": {
        "id": "NtB-VgXnSNUc"
      }
    },
    {
      "cell_type": "code",
      "source": [
        "# Use Stochastic Gradient Descent as we learned in class\n",
        "model = BinaryCNN()\n",
        "criterion = nn.CrossEntropyLoss()\n",
        "optimizer = optim.SGD(model.parameters(), lr=0.01, momentum=0.9)\n"
      ],
      "metadata": {
        "id": "NR1jfNGwSPC8"
      },
      "execution_count": 93,
      "outputs": []
    },
    {
      "cell_type": "markdown",
      "source": [
        "# Train the Model!"
      ],
      "metadata": {
        "id": "Y6T21eLwS7QQ"
      }
    },
    {
      "cell_type": "code",
      "source": [
        "# Use loops like in the assignments, with a set epoch value\n",
        "\n",
        "num_epochs = 10  # Number of epochs\n",
        "\n",
        "for epoch in range(num_epochs):\n",
        "    # Complete the loop\n",
        "    for data, labels in train_loader:\n",
        "        outputs = model(data)\n",
        "        loss = criterion(outputs, labels)\n",
        "\n",
        "        optimizer.zero_grad()\n",
        "        loss.backward()\n",
        "        optimizer.step()\n",
        "\n",
        "    print(f'Epoch [{epoch+1}/{num_epochs}], Loss: {loss.item():.4f}')"
      ],
      "metadata": {
        "colab": {
          "base_uri": "https://localhost:8080/"
        },
        "id": "N9O_BgNES_p7",
        "outputId": "0b4a6392-2a60-45e1-c6f4-268ae813792f"
      },
      "execution_count": 94,
      "outputs": [
        {
          "output_type": "stream",
          "name": "stdout",
          "text": [
            "Epoch [1/10], Loss: 0.0143\n",
            "Epoch [2/10], Loss: 0.0000\n",
            "Epoch [3/10], Loss: 0.0000\n",
            "Epoch [4/10], Loss: 0.0000\n",
            "Epoch [5/10], Loss: 0.0000\n",
            "Epoch [6/10], Loss: 0.0038\n",
            "Epoch [7/10], Loss: 0.0000\n",
            "Epoch [8/10], Loss: 0.0000\n",
            "Epoch [9/10], Loss: 0.0000\n",
            "Epoch [10/10], Loss: 0.0000\n"
          ]
        }
      ]
    },
    {
      "cell_type": "markdown",
      "source": [
        "# Evaluation"
      ],
      "metadata": {
        "id": "9cc9aVpoTj6g"
      }
    },
    {
      "cell_type": "code",
      "source": [
        "model.eval()  # Set the model to evaluation mode\n",
        "with torch.no_grad():\n",
        "    correct = 0\n",
        "    total = 0\n",
        "    for data, labels in test_loader:\n",
        "        outputs = model(data)\n",
        "        _, predicted = torch.max(outputs.data, 1)\n",
        "        total += labels.size(0)\n",
        "        correct += (predicted == labels).sum().item()\n",
        "\n",
        "print(f'Accuracy of the model on the test images: {100 * correct / total}%')\n"
      ],
      "metadata": {
        "colab": {
          "base_uri": "https://localhost:8080/"
        },
        "id": "nuq3cC2kTmvq",
        "outputId": "5620472f-0a5e-4304-d09a-344b3cb3c63d"
      },
      "execution_count": 95,
      "outputs": [
        {
          "output_type": "stream",
          "name": "stdout",
          "text": [
            "Accuracy of the model on the test images: 100.0%\n"
          ]
        }
      ]
    }
  ],
  "metadata": {
    "colab": {
      "provenance": []
    },
    "kernelspec": {
      "display_name": "Python 3",
      "name": "python3"
    },
    "language_info": {
      "codemirror_mode": {
        "name": "ipython",
        "version": 3
      },
      "file_extension": ".py",
      "mimetype": "text/x-python",
      "name": "python",
      "nbconvert_exporter": "python",
      "pygments_lexer": "ipython3",
      "version": "3.11.2"
    }
  },
  "nbformat": 4,
  "nbformat_minor": 0
}