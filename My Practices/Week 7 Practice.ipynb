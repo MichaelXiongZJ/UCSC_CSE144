{
  "nbformat": 4,
  "nbformat_minor": 0,
  "metadata": {
    "colab": {
      "provenance": []
    },
    "kernelspec": {
      "name": "python3",
      "display_name": "Python 3"
    },
    "language_info": {
      "name": "python"
    }
  },
  "cells": [
    {
      "cell_type": "markdown",
      "source": [
        "# **Practice Building a CNN with PyTorch**"
      ],
      "metadata": {
        "id": "9PUbMKGYtiLI"
      }
    },
    {
      "cell_type": "code",
      "execution_count": null,
      "metadata": {
        "id": "USZ1pEfKtg3g"
      },
      "outputs": [],
      "source": [
        "import torch\n",
        "import torch.nn as nn\n",
        "import matplotlib.pyplot as plt\n",
        "\n",
        "# Fake RGB data\n",
        "fake_rgb_data = torch.rand((1, 3, 32, 32))  # RGB image of size 32x32"
      ]
    },
    {
      "cell_type": "markdown",
      "source": [
        "# Initilize the layers"
      ],
      "metadata": {
        "id": "xl9rPLfVxFGV"
      }
    },
    {
      "cell_type": "code",
      "source": [
        "class MyRGBCNN(nn.Module):\n",
        "    def __init__(self):\n",
        "        super(MyRGBCNN, self).__init__()\n",
        "        # Step 1: Convolutional Layer\n",
        "        self.conv1 = nn.Conv2d(3, 32, 3, stride=1, padding=1)\n",
        "        # Step 2: Max Pooling Layer\n",
        "        self.pool = nn.MaxPool2d(2, 2)\n",
        "        # [Add more layers as required]\n",
        "\n",
        "        # Step 4: Fully Connected Layers for Object Detection\n",
        "        self.fc1 = nn.Linear(32 * 8 * 8, 128)  # Adjust input size accordingly\n",
        "        self.fc2 = nn.Linear(128, number_of_classes)\n",
        "\n",
        "    def forward(self, x):\n",
        "        # Apply Convolutional and Max Pooling Layers\n",
        "        x = self.pool(self.conv1(x))\n",
        "        # [Apply additional layers]\n",
        "\n",
        "        # Step 3: Flatten the output for the Fully Connected Layers\n",
        "        x = x.view(-1, 32 * 8 * 8)  # Adjust size accordingly\n",
        "        # Apply Fully Connected Layers\n",
        "        x = nn.ReLU()(self.fc1(x))\n",
        "        x = self.fc2(x)\n",
        "        return x\n",
        "\n",
        "# Instantiate and visualize the model\n",
        "model = MyRGBCNN()\n",
        "visualize_layer_output(model, fake_rgb_data)\n"
      ],
      "metadata": {
        "id": "XQK0wgUoxCax"
      },
      "execution_count": null,
      "outputs": []
    },
    {
      "cell_type": "markdown",
      "source": [
        "# Understanding Convolutional Layers"
      ],
      "metadata": {
        "id": "d_thZDWZux9w"
      }
    },
    {
      "cell_type": "code",
      "source": [],
      "metadata": {
        "id": "r5ioYcMJu3W3"
      },
      "execution_count": null,
      "outputs": []
    },
    {
      "cell_type": "markdown",
      "source": [
        "\n",
        "# Understanding Max Pooling Layers\n"
      ],
      "metadata": {
        "id": "2of04eMZu2jH"
      }
    },
    {
      "cell_type": "code",
      "source": [],
      "metadata": {
        "id": "srApql4xvGqf"
      },
      "execution_count": null,
      "outputs": []
    },
    {
      "cell_type": "markdown",
      "source": [],
      "metadata": {
        "id": "nrNL0U6Uvo60"
      }
    },
    {
      "cell_type": "markdown",
      "source": [
        "# Output Shape Verification"
      ],
      "metadata": {
        "id": "iTgKz0szvm4R"
      }
    },
    {
      "cell_type": "code",
      "source": [],
      "metadata": {
        "id": "UzY9OCwHvnqw"
      },
      "execution_count": null,
      "outputs": []
    }
  ]
}